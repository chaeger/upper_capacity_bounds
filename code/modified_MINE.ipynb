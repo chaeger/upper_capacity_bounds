{
 "cells": [
  {
   "cell_type": "markdown",
   "metadata": {},
   "source": [
    "# Modified MINE"
   ]
  },
  {
   "cell_type": "code",
   "execution_count": 2,
   "metadata": {},
   "outputs": [],
   "source": [
    "import tensorflow as tf\n",
    "import numpy as np\n",
    "import matplotlib.pyplot as plt\n",
    "import scipy.io as sio\n",
    "import scipy.optimize as opt\n",
    "import math\n",
    "import time\n",
    "import sys\n",
    "from numpy import pi,exp,sin,cos,sqrt,abs,log\n",
    "from tqdm.notebook import tqdm\n",
    "#%matplotlib inline\n",
    "plt.rcParams.update({'font.size': 16})"
   ]
  },
  {
   "cell_type": "code",
   "execution_count": 4,
   "metadata": {},
   "outputs": [
    {
     "name": "stdout",
     "output_type": "stream",
     "text": [
      "2.4.1\n",
      "Num GPUs Available:  1\n"
     ]
    }
   ],
   "source": [
    "print(tf.__version__)\n",
    "gpus = tf.config.experimental.list_physical_devices('GPU')\n",
    "print(\"Num GPUs Available: \", len(gpus))\n",
    "if gpus:\n",
    "    try:\n",
    "        for gpu in gpus:\n",
    "            tf.config.experimental.set_memory_growth(gpu, True)\n",
    "    except RuntimeError as e:\n",
    "        print(e)"
   ]
  },
  {
   "cell_type": "code",
   "execution_count": 5,
   "metadata": {},
   "outputs": [],
   "source": [
    "class FCNN(tf.Module): # fully-connected ReLU net\n",
    "    def __init__(self, dims, last_activation=None):\n",
    "        super().__init__()\n",
    "        if len(dims) < 2: raise ValueError(\"Input list has to be at least length 2\")\n",
    "        \n",
    "        self.layers = []\n",
    "        for i in range(len(dims)-2):\n",
    "            self.layers.append(tf.keras.layers.Dense(dims[i+1], activation=\"relu\"))\n",
    "        self.layers.append(tf.keras.layers.Dense(dims[-1], activation=last_activation)) \n",
    "    \n",
    "    def __call__(self, x):\n",
    "        for layer in self.layers:\n",
    "            x = layer(x)\n",
    "        return x\n",
    "\n",
    "def reset_weights(model): # https://github.com/keras-team/keras/issues/341\n",
    "    for layer in model.layers:\n",
    "        if isinstance(layer, tf.keras.Model):\n",
    "            reset_weights(layer)\n",
    "            continue\n",
    "        for k, initializer in layer.__dict__.items():\n",
    "            if \"initializer\" not in k:\n",
    "                continue\n",
    "            # find the corresponding variable\n",
    "            var = getattr(layer, k.replace(\"_initializer\", \"\"))\n",
    "            var.assign(initializer(var.shape, var.dtype))"
   ]
  },
  {
   "cell_type": "markdown",
   "metadata": {},
   "source": [
    "# Conventional Divergence Estimation"
   ]
  },
  {
   "cell_type": "code",
   "execution_count": 6,
   "metadata": {},
   "outputs": [],
   "source": [
    "def DKL_est(X, Y): \n",
    "    \"\"\"\n",
    "    Estimates D(P||Q) based on Algorithm A from [Wang et al., 2005]\n",
    "        X: vector of samples from P with length n\n",
    "        Y: vector of samples from Q with length m\n",
    "    \"\"\"\n",
    "    n = X.shape[0]\n",
    "    m = Y.shape[0]\n",
    "    lm = int(np.floor(sqrt(m)))\n",
    "    Tm = int(np.floor(m/lm))\n",
    "    \n",
    "    Y = np.sort(Y)\n",
    "    bins = Y[lm-1:lm*(Tm-1):lm]\n",
    "    bins = np.hstack([-np.inf, bins, +np.inf])\n",
    "    k,_ = np.histogram(X, bins=bins) # non-uniform bin widths; [b0 b1); [b1 b2); ...; [bn-1; bn]\n",
    "\n",
    "    Dest = 0\n",
    "    for i in range(Tm-1):\n",
    "        if k[i] != 0:\n",
    "            tmp = (k[i]/n)*log((k[i]/n)/(lm/m))\n",
    "            Dest = Dest + tmp\n",
    "            \n",
    "    delta_m = (m-lm*Tm)\n",
    "    if k[Tm-1] != 0:\n",
    "        tmp = (k[Tm-1]/n)*log((k[Tm-1]/n)/(lm/m+delta_m))\n",
    "    else:\n",
    "        tmp = 0 \n",
    "    return Dest + tmp"
   ]
  },
  {
   "cell_type": "code",
   "execution_count": 7,
   "metadata": {},
   "outputs": [
    {
     "name": "stdout",
     "output_type": "stream",
     "text": [
      "0.9953474347727509\n",
      "1.0113280142052392\n"
     ]
    }
   ],
   "source": [
    "# compare with library function\n",
    "from universal_divergence import estimate\n",
    "\n",
    "n = 100000\n",
    "X = np.random.gamma(1, 1, size=[n])\n",
    "Y = np.random.normal(2.5, 2, size=[n])\n",
    "\n",
    "Dest = DKL_est(X,Y)\n",
    "print(Dest)\n",
    "Dest4 = estimate(X[:,np.newaxis],Y[:,np.newaxis], k=1) # slow\n",
    "print(Dest4)"
   ]
  },
  {
   "cell_type": "markdown",
   "metadata": {},
   "source": [
    "# modified MINE (with additional input)"
   ]
  },
  {
   "cell_type": "code",
   "execution_count": 8,
   "metadata": {},
   "outputs": [],
   "source": [
    "class MINE_mod(tf.Module):\n",
    "    \"\"\"\n",
    "        estimates D(P||Q), where P, Q are defined on R^d \n",
    "        - MI(X;Y) if P=f_XY and Q=f_X*f_Y\n",
    "        - d = dim(X) + dim(Y)\n",
    "        statistics network can take additional input x\n",
    "    \"\"\"\n",
    "    def __init__(self, dims):\n",
    "        super().__init__()\n",
    "        self.T = FCNN(dims) # statistics network T, input shape [B, d]\n",
    "        \n",
    "    def __call__(self, x_P, x_Q, x=None, averages=1): # E_P[T] - log(E_Q[e^T])\n",
    "        \"\"\"\n",
    "            input shapes: [B, d]\n",
    "            averages: number of separate averages (must be divisible by B)\n",
    "        \"\"\"\n",
    "        if x is not None:\n",
    "            if x.shape[0] % averages != 0: raise ValueError(\"batch size must be divisible by the number of averages\")\n",
    "            T1 = self.T(tf.concat([x, x_P], axis=1)) # [B, 1]\n",
    "            T2 = self.T(tf.concat([x, x_Q], axis=1)) # [B, 1]\n",
    "        else:\n",
    "            if averages != 1: raise ValueError(\"number of averages should be 1 if no additional input is given\")\n",
    "            T1 = self.T(x_P)\n",
    "            T2 = self.T(x_Q)\n",
    "        \n",
    "        axis_avg = 0\n",
    "        if averages != 1: # returns shape [averages,]\n",
    "            T1 = tf.reshape(T1, (averages, -1))\n",
    "            T2 = tf.reshape(T2, (averages, -1))\n",
    "            axis_avg = 1\n",
    "            \n",
    "        #epsilon = 1e-20 # to avoid log(0) = -Inf\n",
    "        epsilon = 0\n",
    "        T2 = tf.clip_by_value(T2, -1e50, 75.0) # this gets rid of the NaNs but leads to other numerical issues (growing loss function)\n",
    "        \n",
    "        tmp = tf.reduce_mean(tf.math.exp(T2), axis=axis_avg)\n",
    "        \n",
    "        \"\"\"\n",
    "        if ((tf.math.is_nan(tmp)).numpy()).any():\n",
    "            print(tf.reduce_max(T2))\n",
    "            print(tmp)\n",
    "            print('NaN detected')\n",
    "        if ((tf.math.is_inf(tmp)).numpy()).any():\n",
    "            print(tf.reduce_max(T2))\n",
    "            print(tmp)\n",
    "            print('Inf detected')\n",
    "        \"\"\"\n",
    "        #tmp = tf.clip_by_value(tmp, 0, 1e20)\n",
    "        D_est = (tf.reduce_mean(T1, axis=axis_avg)-tf.math.log(epsilon+tmp)) #/tf.math.log(2.0)\n",
    "        \n",
    "        #D_est = (tf.reduce_mean(T1, axis=axis_avg)-tf.math.log(epsilon+tf.reduce_mean(tf.math.exp(T2), axis=axis_avg))) #/tf.math.log(2.0)\n",
    "        return D_est"
   ]
  },
  {
   "cell_type": "code",
   "execution_count": 9,
   "metadata": {},
   "outputs": [],
   "source": [
    "@tf.function\n",
    "def train_MINE_mod(x_P, x_Q, x):\n",
    "    with tf.GradientTape() as tape:\n",
    "        loss = -mine(x_P, x_Q, x)\n",
    "        \n",
    "    grads = tape.gradient(loss, mine.trainable_variables)\n",
    "    optimizer.apply_gradients(zip(grads, mine.trainable_variables)) # weighted averaging -> TBD\n",
    "    return loss"
   ]
  },
  {
   "cell_type": "code",
   "execution_count": 10,
   "metadata": {},
   "outputs": [
    {
     "data": {
      "application/vnd.jupyter.widget-view+json": {
       "model_id": "86ecb963b60942c39c0972c0c3c05e8d",
       "version_major": 2,
       "version_minor": 0
      },
      "text/plain": [
       "HBox(children=(HTML(value=''), FloatProgress(value=0.0, max=500.0), HTML(value='')))"
      ]
     },
     "metadata": {},
     "output_type": "display_data"
    },
    {
     "name": "stdout",
     "output_type": "stream",
     "text": [
      "WARNING:tensorflow:AutoGraph could not transform <__main__.MINE_mod object at 0x7f494c5595f8> and will run it as-is.\n",
      "Please report this to the TensorFlow team. When filing the bug, set the verbosity to 10 (on Linux, `export AUTOGRAPH_VERBOSITY=10`) and attach the full output.\n",
      "Cause: module 'gast' has no attribute 'Index'\n",
      "To silence this warning, decorate the function with @tf.autograph.experimental.do_not_convert\n",
      "WARNING: AutoGraph could not transform <__main__.MINE_mod object at 0x7f494c5595f8> and will run it as-is.\n",
      "Please report this to the TensorFlow team. When filing the bug, set the verbosity to 10 (on Linux, `export AUTOGRAPH_VERBOSITY=10`) and attach the full output.\n",
      "Cause: module 'gast' has no attribute 'Index'\n",
      "To silence this warning, decorate the function with @tf.autograph.experimental.do_not_convert\n"
     ]
    },
    {
     "name": "stderr",
     "output_type": "stream",
     "text": [
      "2022-03-31 10:42:21.654512: I tensorflow/core/platform/cpu_feature_guard.cc:142] This TensorFlow binary is optimized with oneAPI Deep Neural Network Library (oneDNN) to use the following CPU instructions in performance-critical operations:  SSE4.1 SSE4.2 AVX AVX2 FMA\n",
      "To enable them in other operations, rebuild TensorFlow with the appropriate compiler flags.\n",
      "2022-03-31 10:42:21.656283: I tensorflow/core/common_runtime/gpu/gpu_device.cc:1720] Found device 0 with properties: \n",
      "pciBusID: 0000:41:00.0 name: NVIDIA GeForce RTX 2080 Ti computeCapability: 7.5\n",
      "coreClock: 1.545GHz coreCount: 68 deviceMemorySize: 10.76GiB deviceMemoryBandwidth: 573.69GiB/s\n",
      "2022-03-31 10:42:21.656317: I tensorflow/stream_executor/platform/default/dso_loader.cc:49] Successfully opened dynamic library libcudart.so.10.1\n",
      "2022-03-31 10:42:21.656349: I tensorflow/stream_executor/platform/default/dso_loader.cc:49] Successfully opened dynamic library libcublas.so.10\n",
      "2022-03-31 10:42:21.656362: I tensorflow/stream_executor/platform/default/dso_loader.cc:49] Successfully opened dynamic library libcublasLt.so.10\n",
      "2022-03-31 10:42:21.656375: I tensorflow/stream_executor/platform/default/dso_loader.cc:49] Successfully opened dynamic library libcufft.so.10\n",
      "2022-03-31 10:42:21.656387: I tensorflow/stream_executor/platform/default/dso_loader.cc:49] Successfully opened dynamic library libcurand.so.10\n",
      "2022-03-31 10:42:21.656398: I tensorflow/stream_executor/platform/default/dso_loader.cc:49] Successfully opened dynamic library libcusolver.so.10\n",
      "2022-03-31 10:42:21.656410: I tensorflow/stream_executor/platform/default/dso_loader.cc:49] Successfully opened dynamic library libcusparse.so.10\n",
      "2022-03-31 10:42:21.656422: I tensorflow/stream_executor/platform/default/dso_loader.cc:49] Successfully opened dynamic library libcudnn.so.7\n",
      "2022-03-31 10:42:21.657487: I tensorflow/core/common_runtime/gpu/gpu_device.cc:1862] Adding visible gpu devices: 0\n",
      "2022-03-31 10:42:21.657512: I tensorflow/stream_executor/platform/default/dso_loader.cc:49] Successfully opened dynamic library libcudart.so.10.1\n",
      "2022-03-31 10:42:22.182606: I tensorflow/core/common_runtime/gpu/gpu_device.cc:1261] Device interconnect StreamExecutor with strength 1 edge matrix:\n",
      "2022-03-31 10:42:22.182644: I tensorflow/core/common_runtime/gpu/gpu_device.cc:1267]      0 \n",
      "2022-03-31 10:42:22.182650: I tensorflow/core/common_runtime/gpu/gpu_device.cc:1280] 0:   N \n",
      "2022-03-31 10:42:22.184474: I tensorflow/core/common_runtime/gpu/gpu_device.cc:1406] Created TensorFlow device (/job:localhost/replica:0/task:0/device:GPU:0 with 10056 MB memory) -> physical GPU (device: 0, name: NVIDIA GeForce RTX 2080 Ti, pci bus id: 0000:41:00.0, compute capability: 7.5)\n",
      "2022-03-31 10:42:22.184817: I tensorflow/compiler/jit/xla_gpu_device.cc:99] Not creating XLA devices, tf_xla_enable_xla_devices not set\n",
      "2022-03-31 10:42:22.277229: W tensorflow/python/util/util.cc:348] Sets are not currently considered sequences, but this may change in the future, so consider avoiding using them.\n",
      "2022-03-31 10:42:22.394191: I tensorflow/compiler/mlir/mlir_graph_optimization_pass.cc:116] None of the MLIR optimization passes are enabled (registered 2)\n",
      "2022-03-31 10:42:22.416281: I tensorflow/core/platform/profile_utils/cpu_utils.cc:112] CPU Frequency: 3393125000 Hz\n",
      "2022-03-31 10:42:22.456314: I tensorflow/stream_executor/platform/default/dso_loader.cc:49] Successfully opened dynamic library libcublas.so.10\n"
     ]
    },
    {
     "name": "stdout",
     "output_type": "stream",
     "text": [
      "\n"
     ]
    }
   ],
   "source": [
    "lr = 0.001\n",
    "optimizer = tf.keras.optimizers.Adam(learning_rate=lr)\n",
    "iterations = 500\n",
    "B = 2000\n",
    "\n",
    "M = 11\n",
    "dm = np.linspace(-1,1,M)\n",
    "\n",
    "n_hidden= 50\n",
    "dims = [1, n_hidden,n_hidden, 1] \n",
    "mine = MINE_mod(dims)\n",
    "\n",
    "loss_sv = []\n",
    "for i in tqdm(range(1, iterations+1)):\n",
    "    tmp = [tf.random.normal([B, 1], j, 1) for j in dm]\n",
    "    x_P = tf.concat(tmp, axis=0)\n",
    "    x_Q = tf.random.normal([B*M, 1], 1, 2)\n",
    "    x = tf.repeat(dm.astype(np.float32), B)[:, tf.newaxis]\n",
    "    \n",
    "    loss = -train_MINE_mod(x_P, x_Q, x)\n",
    "    loss_sv.append(loss)"
   ]
  },
  {
   "cell_type": "code",
   "execution_count": 12,
   "metadata": {},
   "outputs": [
    {
     "data": {
      "application/vnd.jupyter.widget-view+json": {
       "model_id": "75eb0d8e82c144d7b07df1420e209351",
       "version_major": 2,
       "version_minor": 0
      },
      "text/plain": [
       "HBox(children=(HTML(value=''), FloatProgress(value=0.0, max=30.0), HTML(value='')))"
      ]
     },
     "metadata": {},
     "output_type": "display_data"
    },
    {
     "name": "stdout",
     "output_type": "stream",
     "text": [
      "\n"
     ]
    }
   ],
   "source": [
    "M_exact = 30\n",
    "dm_exact = np.linspace(-1,1,M_exact)\n",
    "\n",
    "Dest_exact = np.zeros([M_exact])\n",
    "n = int(1e7)\n",
    "for i in tqdm(range(M_exact)):\n",
    "    X = np.random.normal(dm_exact[i], 1, size=[n])\n",
    "    Y = np.random.normal(1, 2, size=[n])\n",
    "    Dest_exact[i] = DKL_est(X, Y) "
   ]
  },
  {
   "cell_type": "code",
   "execution_count": 13,
   "metadata": {},
   "outputs": [
    {
     "data": {
      "image/png": "[encoded data removed]",
      "text/plain": [
       "<Figure size 432x288 with 1 Axes>"
      ]
     },
     "metadata": {
      "needs_background": "light"
     },
     "output_type": "display_data"
    }
   ],
   "source": [
    "plt.plot(loss_sv, 'b-', label='MINE_mod')\n",
    "plt.plot(np.mean(Dest_exact)*np.ones(iterations), 'r--', label='exact')\n",
    "plt.xlabel('gradient steps'), plt.ylabel('mutual information [bits]')\n",
    "plt.legend()\n",
    "plt.grid()\n",
    "plt.show()"
   ]
  },
  {
   "cell_type": "code",
   "execution_count": 14,
   "metadata": {},
   "outputs": [
    {
     "data": {
      "application/vnd.jupyter.widget-view+json": {
       "model_id": "b4f54c922e684731a30798cf19daf050",
       "version_major": 2,
       "version_minor": 0
      },
      "text/plain": [
       "HBox(children=(HTML(value=''), FloatProgress(value=0.0, max=11.0), HTML(value='')))"
      ]
     },
     "metadata": {},
     "output_type": "display_data"
    },
    {
     "name": "stdout",
     "output_type": "stream",
     "text": [
      "\n"
     ]
    },
    {
     "data": {
      "application/vnd.jupyter.widget-view+json": {
       "model_id": "0fb8b919ed114291af7987185114a413",
       "version_major": 2,
       "version_minor": 0
      },
      "text/plain": [
       "HBox(children=(HTML(value=''), FloatProgress(value=0.0, max=10.0), HTML(value='')))"
      ]
     },
     "metadata": {},
     "output_type": "display_data"
    },
    {
     "name": "stdout",
     "output_type": "stream",
     "text": [
      "\n"
     ]
    }
   ],
   "source": [
    "# testing on the same x's as used for training\n",
    "Dest_train = np.zeros([M])\n",
    "n = int(1e7)\n",
    "\n",
    "for i in tqdm(range(M)):\n",
    "    x_P = tf.random.normal([n, 1], dm[i], 1)\n",
    "    x_Q = tf.random.normal([n, 1], 1, 2)\n",
    "    x = dm[i]*tf.ones([n,1])\n",
    "    Dest_train[i] = mine(x_P, x_Q, x)\n",
    "    \n",
    "# testing on different x's\n",
    "M_eval = 10\n",
    "dm_eval = np.linspace(-0.9,0.9,M_eval)\n",
    "\n",
    "Dest_eval = np.zeros([M_eval])\n",
    "n = int(1e7)\n",
    "\n",
    "for i in tqdm(range(M_eval)):\n",
    "    x_P = tf.random.normal([n, 1], dm_eval[i], 1)\n",
    "    x_Q = tf.random.normal([n, 1], 1, 2)\n",
    "    x = dm_eval[i]*tf.ones([n,1])\n",
    "    Dest_eval[i] = mine(x_P, x_Q, x)"
   ]
  },
  {
   "cell_type": "code",
   "execution_count": 15,
   "metadata": {},
   "outputs": [
    {
     "data": {
      "image/png": "[encoded data removed]",
      "text/plain": [
       "<Figure size 576x288 with 1 Axes>"
      ]
     },
     "metadata": {
      "needs_background": "light"
     },
     "output_type": "display_data"
    }
   ],
   "source": [
    "fig = plt.figure(figsize=(8, 4))\n",
    "plt.plot(dm_exact, Dest_exact, label='D(N(x,1) || N(1, 2))')\n",
    "plt.plot(dm, Dest_train, linestyle='none', marker='o', label='D(x), x in Xd')\n",
    "plt.plot(dm_eval, Dest_eval, linestyle='none', marker='.', label='D(x), x in Xd')\n",
    "plt.legend()\n",
    "plt.xlabel('x'), plt.ylabel('D [nats]'), plt.grid()\n",
    "plt.xlim(-1.0, 1.0)\n",
    "plt.ylim(0.2, 0.9)\n",
    "plt.show()"
   ]
  }
 ],
 "metadata": {
  "kernelspec": {
   "display_name": "Python 3 (ipykernel)",
   "language": "python",
   "name": "python3"
  },
  "language_info": {
   "codemirror_mode": {
    "name": "ipython",
    "version": 3
   },
   "file_extension": ".py",
   "mimetype": "text/x-python",
   "name": "python",
   "nbconvert_exporter": "python",
   "pygments_lexer": "ipython3",
   "version": "3.7.3"
  }
 },
 "nbformat": 4,
 "nbformat_minor": 4
}
