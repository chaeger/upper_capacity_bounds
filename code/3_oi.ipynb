{
 "cells": [
  {
   "cell_type": "markdown",
   "metadata": {},
   "source": [
    "# Optical Intensity Channel"
   ]
  },
  {
   "cell_type": "code",
   "execution_count": 2,
   "metadata": {},
   "outputs": [],
   "source": [
    "import tensorflow as tf\n",
    "import numpy as np\n",
    "import matplotlib.pyplot as plt\n",
    "import scipy.io as sio\n",
    "import scipy.optimize as opt\n",
    "import math\n",
    "import time\n",
    "import sys\n",
    "from numpy import pi,exp,sin,cos,sqrt,abs,log\n",
    "from tqdm.notebook import tqdm\n",
    "#%matplotlib inline\n",
    "plt.rcParams.update({'font.size': 16})"
   ]
  },
  {
   "cell_type": "code",
   "execution_count": 4,
   "metadata": {},
   "outputs": [
    {
     "name": "stdout",
     "output_type": "stream",
     "text": [
      "2.4.1\n",
      "Num GPUs Available:  1\n"
     ]
    }
   ],
   "source": [
    "print(tf.__version__)\n",
    "gpus = tf.config.experimental.list_physical_devices('GPU')\n",
    "print(\"Num GPUs Available: \", len(gpus))\n",
    "if gpus:\n",
    "    try:\n",
    "        for gpu in gpus:\n",
    "            tf.config.experimental.set_memory_growth(gpu, True)\n",
    "    except RuntimeError as e:\n",
    "        print(e)"
   ]
  },
  {
   "cell_type": "code",
   "execution_count": 5,
   "metadata": {},
   "outputs": [],
   "source": [
    "class FCNN(tf.Module): # fully-connected ReLU net\n",
    "    def __init__(self, dims, last_activation=None):\n",
    "        super().__init__()\n",
    "        if len(dims) < 2: raise ValueError(\"Input list has to be at least length 2\")\n",
    "        \n",
    "        self.layers = []\n",
    "        for i in range(len(dims)-2):\n",
    "            self.layers.append(tf.keras.layers.Dense(dims[i+1], activation=\"relu\"))\n",
    "        self.layers.append(tf.keras.layers.Dense(dims[-1], activation=last_activation)) \n",
    "    \n",
    "    def __call__(self, x):\n",
    "        for layer in self.layers:\n",
    "            x = layer(x)\n",
    "        return x\n",
    "\n",
    "def reset_weights(model): # https://github.com/keras-team/keras/issues/341\n",
    "    for layer in model.layers:\n",
    "        if isinstance(layer, tf.keras.Model):\n",
    "            reset_weights(layer)\n",
    "            continue\n",
    "        for k, initializer in layer.__dict__.items():\n",
    "            if \"initializer\" not in k:\n",
    "                continue\n",
    "            # find the corresponding variable\n",
    "            var = getattr(layer, k.replace(\"_initializer\", \"\"))\n",
    "            var.assign(initializer(var.shape, var.dtype))"
   ]
  },
  {
   "cell_type": "markdown",
   "metadata": {},
   "source": [
    "# modified MINE (with additional input)"
   ]
  },
  {
   "cell_type": "code",
   "execution_count": 6,
   "metadata": {},
   "outputs": [],
   "source": [
    "class MINE_mod(tf.Module):\n",
    "    \"\"\"\n",
    "        estimates D(P||Q), where P, Q are defined on R^d \n",
    "        - MI(X;Y) if P=f_XY and Q=f_X*f_Y\n",
    "        - d = dim(X) + dim(Y)\n",
    "        statistics network can take additional input x\n",
    "    \"\"\"\n",
    "    def __init__(self, dims):\n",
    "        super().__init__()\n",
    "        self.T = FCNN(dims) # statistics network T, input shape [B, d]\n",
    "        \n",
    "    def __call__(self, x_P, x_Q, x=None, averages=1): # E_P[T] - log(E_Q[e^T])\n",
    "        \"\"\"\n",
    "            input shapes: [B, d]\n",
    "            averages: number of separate averages (must be divisible by B)\n",
    "        \"\"\"\n",
    "        if x is not None:\n",
    "            if x.shape[0] % averages != 0: raise ValueError(\"batch size must be divisible by the number of averages\")\n",
    "            T1 = self.T(tf.concat([x, x_P], axis=1)) # [B, 1]\n",
    "            T2 = self.T(tf.concat([x, x_Q], axis=1)) # [B, 1]\n",
    "        else:\n",
    "            if averages != 1: raise ValueError(\"number of averages should be 1 if no additional input is given\")\n",
    "            T1 = self.T(x_P)\n",
    "            T2 = self.T(x_Q)\n",
    "        \n",
    "        axis_avg = 0\n",
    "        if averages != 1: # returns shape [averages,]\n",
    "            T1 = tf.reshape(T1, (averages, -1))\n",
    "            T2 = tf.reshape(T2, (averages, -1))\n",
    "            axis_avg = 1\n",
    "            \n",
    "        #epsilon = 1e-20 # to avoid log(0) = -Inf\n",
    "        epsilon = 0\n",
    "        T2 = tf.clip_by_value(T2, -1e50, 75.0) \n",
    "        tmp = tf.reduce_mean(tf.math.exp(T2), axis=axis_avg)\n",
    "        D_est = (tf.reduce_mean(T1, axis=axis_avg)-tf.math.log(epsilon+tmp)) #/tf.math.log(2.0)\n",
    "        \n",
    "        return D_est"
   ]
  },
  {
   "cell_type": "markdown",
   "metadata": {},
   "source": [
    "# Training"
   ]
  },
  {
   "cell_type": "code",
   "execution_count": 17,
   "metadata": {},
   "outputs": [],
   "source": [
    "# optical intensity channel\n",
    "ch = 'OIC'\n",
    "dims_in = 1\n",
    "dims_out = 1\n",
    "alpha = 0.4\n",
    "\n",
    "A = 1/alpha\n",
    "Nx = 15\n",
    "Dx = np.linspace(0, A, Nx)\n",
    "Dx_tf = tf.convert_to_tensor(Dx, dtype=tf.float32)\n",
    "\n",
    "def cost(x):\n",
    "    return x\n",
    "\n",
    "def channel(x, sigma2): \n",
    "    return x + tf.random.normal(x.shape, stddev=tf.sqrt(sigma2))\n",
    "\n",
    "def get_samples_ndt(B, sigma2):\n",
    "    s = A*ndt(tf.random.normal([B,ndt_input]))\n",
    "    x = s/(tf.reduce_mean(s)) # normalization layer\n",
    "    return channel(x, sigma2)"
   ]
  },
  {
   "cell_type": "code",
   "execution_count": 18,
   "metadata": {},
   "outputs": [],
   "source": [
    "def get_data_samples(B, sigma2):\n",
    "    x_Q = get_samples_ndt(B, sigma2)\n",
    "    x = [xi*tf.ones([Bx, dims_in]) for xi in Dx]\n",
    "    tmp = [channel(xi, sigma2) for xi in x]\n",
    "    x_P = tf.concat(tmp, axis=0)\n",
    "    x = tf.concat(x, axis=0)\n",
    "    return x_P, x_Q, x"
   ]
  },
  {
   "cell_type": "code",
   "execution_count": 32,
   "metadata": {},
   "outputs": [],
   "source": [
    "@tf.function\n",
    "def train_mine(sigma2_tf):\n",
    "    x_P, x_Q, x = get_data_samples(B, sigma2_tf)\n",
    "    loss = -mine(x_P, x_Q, x)\n",
    "    with tf.GradientTape() as tape:\n",
    "        loss = -mine(x_P, x_Q, x)\n",
    "    grads = tape.gradient(loss, mine.trainable_variables)\n",
    "    optimizer_mine.apply_gradients(zip(grads, mine.trainable_variables)) # weighted averaging -> TBD\n",
    "    return loss\n",
    "\n",
    "@tf.function\n",
    "def train_ndt(gamma_tf, sigma2_tf):\n",
    "    with tf.GradientTape() as tape:\n",
    "        x_P, x_Q, x = get_data_samples(B, sigma2_tf)\n",
    "        ftmp = mine(x_P, x_Q, x, averages=Nx)-gamma_tf*(cost(Dx_tf)-1)\n",
    "        loss = tf.reduce_max(ftmp, axis=0)\n",
    "    grads = tape.gradient(loss, ndt.trainable_variables)\n",
    "    optimizer_ndt.apply_gradients(zip(grads, ndt.trainable_variables)) # weighted averaging -> TBD\n",
    "    return loss"
   ]
  },
  {
   "cell_type": "code",
   "execution_count": 33,
   "metadata": {},
   "outputs": [],
   "source": [
    "Bx = 20000 # samples for each value of x\n",
    "B = Bx*Nx\n",
    "\n",
    "# alternating optimization\n",
    "lr = 0.001\n",
    "optimizer_mine = tf.keras.optimizers.Adam(learning_rate=lr) # , clipvalue=2.0\n",
    "optimizer_ndt = tf.keras.optimizers.Adam(learning_rate=lr) # , clipvalue=2.0\n",
    "iter_mine_init = 200\n",
    "iter_outer = 500\n",
    "iter_mine = 1\n",
    "iter_ndt = 1\n",
    "\n",
    "# create NDT\n",
    "n_hidden = 100\n",
    "ndt_input = 50\n",
    "dims_ndt = [ndt_input, n_hidden, n_hidden, dims_out]\n",
    "ndt = FCNN(dims_ndt, last_activation=\"sigmoid\")\n",
    "ndt(tf.random.normal([B,ndt_input]))\n",
    "\n",
    "# create MINE\n",
    "dims_mine = [dims_in+dims_out, n_hidden, n_hidden, 1]\n",
    "mine = MINE_mod(dims_mine)\n",
    "x_P, x_Q, x = get_data_samples(B, 0.1)\n",
    "mine(x_P, x_Q, x)\n",
    "\n",
    "def Cap_wrap(gamma, SNR_dB, verbose=False):\n",
    "    Cest,_ = Cap(gamma, SNR_dB, verbose)\n",
    "    return Cest\n",
    "\n",
    "def Cap(gamma, SNR_dB, verbose=False):\n",
    "    #sigma2 = 1/(10**(SNR_dB/10))\n",
    "    sigma2 = A**2/(10**(SNR_dB/10))**2 # plot over SNR = A/sigma\n",
    "    \n",
    "    sigma2_tf = tf.convert_to_tensor(sigma2, dtype=tf.float32)\n",
    "    gamma_tf = tf.convert_to_tensor(gamma, dtype=tf.float32)\n",
    "    reset_weights(mine.T)\n",
    "    reset_weights(ndt)\n",
    "    for var in optimizer_mine.variables(): # https://stackoverflow.com/questions/39607566/reset-tensorflow-optimizer\n",
    "        var.assign(tf.zeros_like(var))\n",
    "    for var in optimizer_ndt.variables(): # https://stackoverflow.com/questions/39607566/reset-tensorflow-optimizer\n",
    "        var.assign(tf.zeros_like(var))\n",
    "    \n",
    "    if verbose:\n",
    "        t = tqdm(range(1, iter_outer+1))\n",
    "    else:\n",
    "        t = range(1, iter_outer+1)\n",
    "    \n",
    "    # initial MINE training\n",
    "    for II in range(iter_mine_init):\n",
    "        loss = -train_mine(sigma2_tf)\n",
    "    if(math.isnan(loss)): print(\"NaN in MINE opt. (init)\")\n",
    "    if(math.isinf(loss)): print(\"Inf in MINE opt. (init)\")\n",
    "    \n",
    "    loss_sv = []\n",
    "    for i in t: # outer iterations\n",
    "        for II in range(iter_mine):\n",
    "            loss = -train_mine(sigma2_tf) # not a capacity estimate\n",
    "        if(math.isnan(loss)): print(\"NaN in MINE opt. (outer iter {}): exiting loop\".format(i)); break\n",
    "        if(math.isinf(loss)): print(\"Inf in MINE opt. (outer iter {}): exiting loop\".format(i)); break\n",
    "            \n",
    "        for II in range(iter_ndt):\n",
    "            loss = train_ndt(gamma_tf, sigma2_tf) # capacity estimate\n",
    "        loss_sv.append(loss.numpy())\n",
    "        if(math.isnan(loss)): print(\"NaN in NDT opt. (outer iter {}): exiting loop\".format(i)); break\n",
    "        if(math.isinf(loss)): print(\"Inf in NDT opt. (outer iter {}): exiting loop\".format(i)); break\n",
    "    return loss_sv[-1], loss_sv"
   ]
  },
  {
   "cell_type": "markdown",
   "metadata": {},
   "source": [
    "# evaluate upper bounds"
   ]
  },
  {
   "cell_type": "code",
   "execution_count": null,
   "metadata": {},
   "outputs": [
    {
     "data": {
      "application/vnd.jupyter.widget-view+json": {
       "model_id": "57f4f5b2fb714cfa8846c798d9128cde",
       "version_major": 2,
       "version_minor": 0
      },
      "text/plain": [
       "HBox(children=(HTML(value=''), FloatProgress(value=0.0, max=17.0), HTML(value='')))"
      ]
     },
     "metadata": {},
     "output_type": "display_data"
    },
    {
     "data": {
      "application/vnd.jupyter.widget-view+json": {
       "model_id": "21099594a738469aa7a789b02d6ca6bd",
       "version_major": 2,
       "version_minor": 0
      },
      "text/plain": [
       "HBox(children=(HTML(value=''), FloatProgress(value=0.0, max=10.0), HTML(value='')))"
      ]
     },
     "metadata": {},
     "output_type": "display_data"
    },
    {
     "name": "stdout",
     "output_type": "stream",
     "text": [
      "WARNING:tensorflow:AutoGraph could not transform <__main__.MINE_mod object at 0x7f3f60055ef0> and will run it as-is.\n",
      "Please report this to the TensorFlow team. When filing the bug, set the verbosity to 10 (on Linux, `export AUTOGRAPH_VERBOSITY=10`) and attach the full output.\n",
      "Cause: module 'gast' has no attribute 'Index'\n",
      "To silence this warning, decorate the function with @tf.autograph.experimental.do_not_convert\n",
      "WARNING: AutoGraph could not transform <__main__.MINE_mod object at 0x7f3f60055ef0> and will run it as-is.\n",
      "Please report this to the TensorFlow team. When filing the bug, set the verbosity to 10 (on Linux, `export AUTOGRAPH_VERBOSITY=10`) and attach the full output.\n",
      "Cause: module 'gast' has no attribute 'Index'\n",
      "To silence this warning, decorate the function with @tf.autograph.experimental.do_not_convert\n"
     ]
    },
    {
     "name": "stderr",
     "output_type": "stream",
     "text": [
      "/home/hagerc/anaconda3/envs/tf2/lib/python3.7/site-packages/scipy/optimize/_minimize.py:780: RuntimeWarning: Method 'bounded' does not support relative tolerance in x; defaulting to absolute tolerance.\n",
      "  \"defaulting to absolute tolerance.\", RuntimeWarning)\n"
     ]
    }
   ],
   "source": [
    "SNR_dB_r = np.arange(-2, 15, 1)\n",
    "#SNR_dB_r = np.arange(2, 10, 2)\n",
    "SNR_len = SNR_dB_r.shape[0]\n",
    "runs = 10\n",
    "\n",
    "Cest = np.zeros([SNR_len, runs])\n",
    "gopt = np.zeros([SNR_len, runs])\n",
    "for i in tqdm(range(SNR_len)):\n",
    "    for j in tqdm(range(runs)):\n",
    "        fun = lambda gi: Cap_wrap(gi, SNR_dB_r[i], verbose=False)\n",
    "        res = opt.minimize_scalar(fun, bounds=(0.01, 2.0), tol=1e-3, method='bounded', options={'maxiter':50, 'disp':False})\n",
    "        Cest[i,j] = res.fun\n",
    "        gopt[i,j] = res.x"
   ]
  },
  {
   "cell_type": "code",
   "execution_count": null,
   "metadata": {},
   "outputs": [],
   "source": [
    "# plot the Lagrange multiplier\n",
    "plt.plot(SNR_dB_r, gopt)\n",
    "plt.plot(SNR_dB_r, np.mean(gopt, 1), marker='x')\n",
    "plt.xlabel('SNR [dB]'), plt.ylabel('gamma*')\n",
    "plt.grid()\n",
    "plt.show()"
   ]
  },
  {
   "cell_type": "code",
   "execution_count": 462,
   "metadata": {},
   "outputs": [
    {
     "data": {
      "application/vnd.jupyter.widget-view+json": {
       "model_id": "797047d4a17f43a987676ae6a1abb00a",
       "version_major": 2,
       "version_minor": 0
      },
      "text/plain": [
       "HBox(children=(HTML(value=''), FloatProgress(value=0.0, max=2.0), HTML(value='')))"
      ]
     },
     "metadata": {},
     "output_type": "display_data"
    },
    {
     "data": {
      "application/vnd.jupyter.widget-view+json": {
       "model_id": "5ef783bf99c5439db8422a12cf5cdd31",
       "version_major": 2,
       "version_minor": 0
      },
      "text/plain": [
       "HBox(children=(HTML(value=''), FloatProgress(value=0.0, max=5.0), HTML(value='')))"
      ]
     },
     "metadata": {},
     "output_type": "display_data"
    },
    {
     "name": "stdout",
     "output_type": "stream",
     "text": [
      "\n"
     ]
    },
    {
     "data": {
      "application/vnd.jupyter.widget-view+json": {
       "model_id": "800dc066a8fd4ff7bdd25209ba019e13",
       "version_major": 2,
       "version_minor": 0
      },
      "text/plain": [
       "HBox(children=(HTML(value=''), FloatProgress(value=0.0, max=5.0), HTML(value='')))"
      ]
     },
     "metadata": {},
     "output_type": "display_data"
    },
    {
     "name": "stdout",
     "output_type": "stream",
     "text": [
      "\n",
      "\n"
     ]
    }
   ],
   "source": [
    "loss_sv = {}\n",
    "for i in tqdm(range(SNR_len)):\n",
    "    for j in tqdm(range(runs)):\n",
    "        #_,loss_sv[i,j] = Cap(gopt[i,j], SNR_dB_r[i], verbose=False)\n",
    "        _,loss_sv[i,j] = Cap(np.mean(gopt,1)[i], SNR_dB_r[i], verbose=False)"
   ]
  },
  {
   "cell_type": "markdown",
   "metadata": {},
   "source": [
    "# Plot"
   ]
  },
  {
   "cell_type": "code",
   "execution_count": 35,
   "metadata": {},
   "outputs": [],
   "source": [
    "# Fig. 2 in Lapidoth et al. 2009\n",
    "# alpha = E/A = 0.4\n",
    "# E[X] < E = 1 => A = E/0.4 = 2.5\n",
    "# sigma \n",
    "\n",
    "LB = np.genfromtxt('3_oi_lb.csv', delimiter=',')\n",
    "UB1 = np.genfromtxt('3_oi_ub1.csv', delimiter=',')\n",
    "UB2 = np.genfromtxt('3_oi_ub2.csv', delimiter=',')"
   ]
  },
  {
   "cell_type": "code",
   "execution_count": 36,
   "metadata": {},
   "outputs": [
    {
     "data": {
      "image/png": "[encoded data removed]",
      "text/plain": [
       "<Figure size 576x432 with 1 Axes>"
      ]
     },
     "metadata": {
      "needs_background": "light"
     },
     "output_type": "display_data"
    }
   ],
   "source": [
    "Cmean = np.mean(Cest,  axis=1)\n",
    "Cstd = np.std(Cest, axis=1)\n",
    "\n",
    "fig = plt.figure(figsize=(8, 6))\n",
    "plt.plot(LB[:,0], LB[:,1], color='black', label='lower bound')\n",
    "plt.plot(UB1[:,0], UB1[:,1], color='black', linestyle='dotted', label='upper bound 1')\n",
    "plt.plot(UB2[:,0], UB2[:,1], color='black', linestyle='dashed', label='upper bound 2')\n",
    "\n",
    "plt.plot(SNR_dB_r, Cmean , marker='x', color='red', label='estimated upper bound')\n",
    "plt.fill_between(SNR_dB_r, Cmean+2*Cstd, Cmean-2*Cstd, alpha=0.3, facecolor='red')\n",
    "\n",
    "plt.legend()\n",
    "plt.xlabel('A/sigma [dB]'), plt.ylabel('C [nats]'), plt.grid()\n",
    "plt.xlim([-2, 14]), plt.ylim([0, 2.5])\n",
    "plt.show()"
   ]
  },
  {
   "cell_type": "code",
   "execution_count": null,
   "metadata": {},
   "outputs": [],
   "source": []
  }
 ],
 "metadata": {
  "kernelspec": {
   "display_name": "Python 3 (ipykernel)",
   "language": "python",
   "name": "python3"
  },
  "language_info": {
   "codemirror_mode": {
    "name": "ipython",
    "version": 3
   },
   "file_extension": ".py",
   "mimetype": "text/x-python",
   "name": "python",
   "nbconvert_exporter": "python",
   "pygments_lexer": "ipython3",
   "version": "3.7.3"
  }
 },
 "nbformat": 4,
 "nbformat_minor": 4
}
